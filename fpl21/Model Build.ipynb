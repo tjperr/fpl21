{
 "cells": [
  {
   "cell_type": "code",
   "execution_count": 1,
   "metadata": {},
   "outputs": [
    {
     "name": "stdout",
     "output_type": "stream",
     "text": [
      "Model Build.ipynb connection.py     players_list.json\r\n",
      "__init__.py       data.py           squad.py\r\n",
      "\u001b[1m\u001b[36m__pycache__\u001b[m\u001b[m       game.py           utils.py\r\n"
     ]
    }
   ],
   "source": [
    "!ls"
   ]
  },
  {
   "cell_type": "code",
   "execution_count": 2,
   "metadata": {},
   "outputs": [],
   "source": [
    "import numpy as np\n",
    "import pandas as pd\n",
    "pd.set_option('display.max_rows', 1000)\n",
    "pd.set_option('display.max_columns', 1000)\n",
    "\n",
    "import json\n",
    "import random\n",
    "import matplotlib as pyplot\n",
    "from tqdm import tqdm\n",
    "\n",
    "from fpl21.utils import pp"
   ]
  },
  {
   "cell_type": "markdown",
   "metadata": {},
   "source": [
    "### Generate base data set\n",
    "<hr>"
   ]
  },
  {
   "cell_type": "code",
   "execution_count": 5,
   "metadata": {},
   "outputs": [
    {
     "name": "stdout",
     "output_type": "stream",
     "text": [
      "loading players list from file\n"
     ]
    }
   ],
   "source": [
    "with open(\"players_list.json\", \"r\") as f:\n",
    "    players_list = json.load(f)"
   ]
  },
  {
   "cell_type": "code",
   "execution_count": 6,
   "metadata": {},
   "outputs": [
    {
     "data": {
      "text/plain": [
       "dict_keys(['chance_of_playing_next_round', 'chance_of_playing_this_round', 'code', 'cost_change_event', 'cost_change_event_fall', 'cost_change_start', 'cost_change_start_fall', 'dreamteam_count', 'element_type', 'ep_next', 'ep_this', 'event_points', 'first_name', 'form', 'id', 'in_dreamteam', 'news', 'news_added', 'now_cost', 'photo', 'points_per_game', 'second_name', 'selected_by_percent', 'special', 'squad_number', 'status', 'team', 'team_code', 'total_points', 'transfers_in', 'transfers_in_event', 'transfers_out', 'transfers_out_event', 'value_form', 'value_season', 'web_name', 'minutes', 'goals_scored', 'assists', 'clean_sheets', 'goals_conceded', 'own_goals', 'penalties_saved', 'penalties_missed', 'yellow_cards', 'red_cards', 'saves', 'bonus', 'bps', 'influence', 'creativity', 'threat', 'ict_index', 'influence_rank', 'influence_rank_type', 'creativity_rank', 'creativity_rank_type', 'threat_rank', 'threat_rank_type', 'ict_index_rank', 'ict_index_rank_type', 'corners_and_indirect_freekicks_order', 'corners_and_indirect_freekicks_text', 'direct_freekicks_order', 'direct_freekicks_text', 'penalties_order', 'penalties_text', 'fixtures', 'history', 'history_past'])"
      ]
     },
     "execution_count": 6,
     "metadata": {},
     "output_type": "execute_result"
    }
   ],
   "source": [
    "# Players list file contains player attributes, fixtures list, historical fixtures and previous season performance\n",
    "players_list[0].keys()"
   ]
  },
  {
   "cell_type": "code",
   "execution_count": 7,
   "metadata": {},
   "outputs": [
    {
     "data": {
      "text/plain": [
       "(4, 34)"
      ]
     },
     "execution_count": 7,
     "metadata": {},
     "output_type": "execute_result"
    }
   ],
   "source": [
    "#history is previous fictures with stats. fixtures is forward looking\n",
    "len(players_list[0]['history']), len(players_list[0]['fixtures'])"
   ]
  },
  {
   "cell_type": "markdown",
   "metadata": {},
   "source": [
    "#### Static player attributes"
   ]
  },
  {
   "cell_type": "code",
   "execution_count": 8,
   "metadata": {},
   "outputs": [],
   "source": [
    "# Create a player attrs dataframe\n",
    "keys = ['id', 'web_name', 'element_type', 'team', 'ep_this', 'ep_next']\n",
    "\n",
    "player_attrs = pd.DataFrame(\n",
    "    [[p[key] for key in keys] for p in players_list],\n",
    "    columns=keys)\n",
    "\n",
    "player_attrs.rename(columns={'id': 'element'}, inplace=True)\n",
    "#player_attrs"
   ]
  },
  {
   "cell_type": "markdown",
   "metadata": {},
   "source": [
    "#### Historical match data"
   ]
  },
  {
   "cell_type": "code",
   "execution_count": 9,
   "metadata": {},
   "outputs": [],
   "source": [
    "hist = [p['history'] for p in players_list]\n",
    "df = pd.DataFrame([x for sublist in hist for x in sublist])\n",
    "df.rename(columns={'was_home': 'is_home'}, inplace=True)\n",
    "df = df.merge(player_attrs, on='element')"
   ]
  },
  {
   "cell_type": "markdown",
   "metadata": {},
   "source": [
    "#### Fixture data"
   ]
  },
  {
   "cell_type": "code",
   "execution_count": 10,
   "metadata": {},
   "outputs": [
    {
     "data": {
      "text/plain": [
       "{'id': 42,\n",
       " 'code': 2210312,\n",
       " 'team_h': 4,\n",
       " 'team_h_score': None,\n",
       " 'team_a': 9,\n",
       " 'team_a_score': None,\n",
       " 'event': 5,\n",
       " 'finished': False,\n",
       " 'minutes': 0,\n",
       " 'provisional_start_time': False,\n",
       " 'kickoff_time': '2021-09-19T13:00:00Z',\n",
       " 'event_name': 'Gameweek 5',\n",
       " 'is_home': True,\n",
       " 'difficulty': 4}"
      ]
     },
     "execution_count": 10,
     "metadata": {},
     "output_type": "execute_result"
    }
   ],
   "source": [
    "players_list[100]['fixtures'][0]"
   ]
  },
  {
   "cell_type": "code",
   "execution_count": 11,
   "metadata": {},
   "outputs": [],
   "source": [
    "# naive version of team diffculty\n",
    "# average points per game\n",
    "team_difficulty = df.groupby('team').total_points.sum() / df.groupby('team').fixture.nunique()\n",
    "team_difficulty.name = 'team_difficulty'"
   ]
  },
  {
   "cell_type": "code",
   "execution_count": 12,
   "metadata": {},
   "outputs": [],
   "source": [
    "#team_difficulty"
   ]
  },
  {
   "cell_type": "code",
   "execution_count": 13,
   "metadata": {},
   "outputs": [],
   "source": [
    "df = df.merge(team_difficulty, left_on='opponent_team', right_index=True) \\\n",
    "       .rename(columns={'team_difficulty': 'opponent_difficulty'}) \\\n",
    "       .merge(team_difficulty, left_on='team', right_index=True)"
   ]
  },
  {
   "cell_type": "code",
   "execution_count": 14,
   "metadata": {},
   "outputs": [
    {
     "data": {
      "text/html": [
       "<div>\n",
       "<style scoped>\n",
       "    .dataframe tbody tr th:only-of-type {\n",
       "        vertical-align: middle;\n",
       "    }\n",
       "\n",
       "    .dataframe tbody tr th {\n",
       "        vertical-align: top;\n",
       "    }\n",
       "\n",
       "    .dataframe thead th {\n",
       "        text-align: right;\n",
       "    }\n",
       "</style>\n",
       "<table border=\"1\" class=\"dataframe\">\n",
       "  <thead>\n",
       "    <tr style=\"text-align: right;\">\n",
       "      <th></th>\n",
       "      <th>element</th>\n",
       "      <th>fixture</th>\n",
       "      <th>opponent_team</th>\n",
       "      <th>total_points</th>\n",
       "      <th>is_home</th>\n",
       "      <th>kickoff_time</th>\n",
       "      <th>team_h_score</th>\n",
       "      <th>team_a_score</th>\n",
       "      <th>round</th>\n",
       "      <th>minutes</th>\n",
       "      <th>goals_scored</th>\n",
       "      <th>assists</th>\n",
       "      <th>clean_sheets</th>\n",
       "      <th>goals_conceded</th>\n",
       "      <th>own_goals</th>\n",
       "      <th>penalties_saved</th>\n",
       "      <th>penalties_missed</th>\n",
       "      <th>yellow_cards</th>\n",
       "      <th>red_cards</th>\n",
       "      <th>saves</th>\n",
       "      <th>bonus</th>\n",
       "      <th>bps</th>\n",
       "      <th>influence</th>\n",
       "      <th>creativity</th>\n",
       "      <th>threat</th>\n",
       "      <th>ict_index</th>\n",
       "      <th>value</th>\n",
       "      <th>transfers_balance</th>\n",
       "      <th>selected</th>\n",
       "      <th>transfers_in</th>\n",
       "      <th>transfers_out</th>\n",
       "      <th>web_name</th>\n",
       "      <th>element_type</th>\n",
       "      <th>team</th>\n",
       "      <th>ep_this</th>\n",
       "      <th>ep_next</th>\n",
       "      <th>opponent_difficulty</th>\n",
       "      <th>team_difficulty</th>\n",
       "    </tr>\n",
       "  </thead>\n",
       "  <tbody>\n",
       "    <tr>\n",
       "      <th>0</th>\n",
       "      <td>1</td>\n",
       "      <td>1</td>\n",
       "      <td>3</td>\n",
       "      <td>1</td>\n",
       "      <td>False</td>\n",
       "      <td>2021-08-13T19:00:00Z</td>\n",
       "      <td>2.0</td>\n",
       "      <td>0.0</td>\n",
       "      <td>1</td>\n",
       "      <td>90</td>\n",
       "      <td>0</td>\n",
       "      <td>0</td>\n",
       "      <td>0</td>\n",
       "      <td>2</td>\n",
       "      <td>0</td>\n",
       "      <td>0</td>\n",
       "      <td>0</td>\n",
       "      <td>0</td>\n",
       "      <td>0</td>\n",
       "      <td>1</td>\n",
       "      <td>0</td>\n",
       "      <td>11</td>\n",
       "      <td>11.8</td>\n",
       "      <td>0.0</td>\n",
       "      <td>0.0</td>\n",
       "      <td>1.2</td>\n",
       "      <td>50</td>\n",
       "      <td>0</td>\n",
       "      <td>153122</td>\n",
       "      <td>0</td>\n",
       "      <td>0</td>\n",
       "      <td>Leno</td>\n",
       "      <td>1</td>\n",
       "      <td>1</td>\n",
       "      <td>2.0</td>\n",
       "      <td>2.0</td>\n",
       "      <td>45.0</td>\n",
       "      <td>26.0</td>\n",
       "    </tr>\n",
       "    <tr>\n",
       "      <th>4</th>\n",
       "      <td>2</td>\n",
       "      <td>1</td>\n",
       "      <td>3</td>\n",
       "      <td>0</td>\n",
       "      <td>False</td>\n",
       "      <td>2021-08-13T19:00:00Z</td>\n",
       "      <td>2.0</td>\n",
       "      <td>0.0</td>\n",
       "      <td>1</td>\n",
       "      <td>0</td>\n",
       "      <td>0</td>\n",
       "      <td>0</td>\n",
       "      <td>0</td>\n",
       "      <td>0</td>\n",
       "      <td>0</td>\n",
       "      <td>0</td>\n",
       "      <td>0</td>\n",
       "      <td>0</td>\n",
       "      <td>0</td>\n",
       "      <td>0</td>\n",
       "      <td>0</td>\n",
       "      <td>0</td>\n",
       "      <td>0.0</td>\n",
       "      <td>0.0</td>\n",
       "      <td>0.0</td>\n",
       "      <td>0.0</td>\n",
       "      <td>40</td>\n",
       "      <td>0</td>\n",
       "      <td>91500</td>\n",
       "      <td>0</td>\n",
       "      <td>0</td>\n",
       "      <td>Rúnarsson</td>\n",
       "      <td>1</td>\n",
       "      <td>1</td>\n",
       "      <td>0.0</td>\n",
       "      <td>0.0</td>\n",
       "      <td>45.0</td>\n",
       "      <td>26.0</td>\n",
       "    </tr>\n",
       "    <tr>\n",
       "      <th>8</th>\n",
       "      <td>3</td>\n",
       "      <td>1</td>\n",
       "      <td>3</td>\n",
       "      <td>0</td>\n",
       "      <td>False</td>\n",
       "      <td>2021-08-13T19:00:00Z</td>\n",
       "      <td>2.0</td>\n",
       "      <td>0.0</td>\n",
       "      <td>1</td>\n",
       "      <td>0</td>\n",
       "      <td>0</td>\n",
       "      <td>0</td>\n",
       "      <td>0</td>\n",
       "      <td>0</td>\n",
       "      <td>0</td>\n",
       "      <td>0</td>\n",
       "      <td>0</td>\n",
       "      <td>0</td>\n",
       "      <td>0</td>\n",
       "      <td>0</td>\n",
       "      <td>0</td>\n",
       "      <td>0</td>\n",
       "      <td>0.0</td>\n",
       "      <td>0.0</td>\n",
       "      <td>0.0</td>\n",
       "      <td>0.0</td>\n",
       "      <td>65</td>\n",
       "      <td>0</td>\n",
       "      <td>22000</td>\n",
       "      <td>0</td>\n",
       "      <td>0</td>\n",
       "      <td>Willian</td>\n",
       "      <td>3</td>\n",
       "      <td>1</td>\n",
       "      <td>0.0</td>\n",
       "      <td>0.0</td>\n",
       "      <td>45.0</td>\n",
       "      <td>26.0</td>\n",
       "    </tr>\n",
       "    <tr>\n",
       "      <th>12</th>\n",
       "      <td>4</td>\n",
       "      <td>1</td>\n",
       "      <td>3</td>\n",
       "      <td>0</td>\n",
       "      <td>False</td>\n",
       "      <td>2021-08-13T19:00:00Z</td>\n",
       "      <td>2.0</td>\n",
       "      <td>0.0</td>\n",
       "      <td>1</td>\n",
       "      <td>0</td>\n",
       "      <td>0</td>\n",
       "      <td>0</td>\n",
       "      <td>0</td>\n",
       "      <td>0</td>\n",
       "      <td>0</td>\n",
       "      <td>0</td>\n",
       "      <td>0</td>\n",
       "      <td>0</td>\n",
       "      <td>0</td>\n",
       "      <td>0</td>\n",
       "      <td>0</td>\n",
       "      <td>0</td>\n",
       "      <td>0.0</td>\n",
       "      <td>0.0</td>\n",
       "      <td>0.0</td>\n",
       "      <td>0.0</td>\n",
       "      <td>100</td>\n",
       "      <td>0</td>\n",
       "      <td>200068</td>\n",
       "      <td>0</td>\n",
       "      <td>0</td>\n",
       "      <td>Aubameyang</td>\n",
       "      <td>4</td>\n",
       "      <td>1</td>\n",
       "      <td>4.7</td>\n",
       "      <td>4.7</td>\n",
       "      <td>45.0</td>\n",
       "      <td>26.0</td>\n",
       "    </tr>\n",
       "    <tr>\n",
       "      <th>16</th>\n",
       "      <td>5</td>\n",
       "      <td>1</td>\n",
       "      <td>3</td>\n",
       "      <td>0</td>\n",
       "      <td>False</td>\n",
       "      <td>2021-08-13T19:00:00Z</td>\n",
       "      <td>2.0</td>\n",
       "      <td>0.0</td>\n",
       "      <td>1</td>\n",
       "      <td>0</td>\n",
       "      <td>0</td>\n",
       "      <td>0</td>\n",
       "      <td>0</td>\n",
       "      <td>0</td>\n",
       "      <td>0</td>\n",
       "      <td>0</td>\n",
       "      <td>0</td>\n",
       "      <td>0</td>\n",
       "      <td>0</td>\n",
       "      <td>0</td>\n",
       "      <td>0</td>\n",
       "      <td>0</td>\n",
       "      <td>0.0</td>\n",
       "      <td>0.0</td>\n",
       "      <td>0.0</td>\n",
       "      <td>0.0</td>\n",
       "      <td>45</td>\n",
       "      <td>0</td>\n",
       "      <td>17385</td>\n",
       "      <td>0</td>\n",
       "      <td>0</td>\n",
       "      <td>Cédric</td>\n",
       "      <td>2</td>\n",
       "      <td>1</td>\n",
       "      <td>1.3</td>\n",
       "      <td>1.3</td>\n",
       "      <td>45.0</td>\n",
       "      <td>26.0</td>\n",
       "    </tr>\n",
       "  </tbody>\n",
       "</table>\n",
       "</div>"
      ],
      "text/plain": [
       "    element  fixture  opponent_team  total_points  is_home  \\\n",
       "0         1        1              3             1    False   \n",
       "4         2        1              3             0    False   \n",
       "8         3        1              3             0    False   \n",
       "12        4        1              3             0    False   \n",
       "16        5        1              3             0    False   \n",
       "\n",
       "            kickoff_time  team_h_score  team_a_score  round  minutes  \\\n",
       "0   2021-08-13T19:00:00Z           2.0           0.0      1       90   \n",
       "4   2021-08-13T19:00:00Z           2.0           0.0      1        0   \n",
       "8   2021-08-13T19:00:00Z           2.0           0.0      1        0   \n",
       "12  2021-08-13T19:00:00Z           2.0           0.0      1        0   \n",
       "16  2021-08-13T19:00:00Z           2.0           0.0      1        0   \n",
       "\n",
       "    goals_scored  assists  clean_sheets  goals_conceded  own_goals  \\\n",
       "0              0        0             0               2          0   \n",
       "4              0        0             0               0          0   \n",
       "8              0        0             0               0          0   \n",
       "12             0        0             0               0          0   \n",
       "16             0        0             0               0          0   \n",
       "\n",
       "    penalties_saved  penalties_missed  yellow_cards  red_cards  saves  bonus  \\\n",
       "0                 0                 0             0          0      1      0   \n",
       "4                 0                 0             0          0      0      0   \n",
       "8                 0                 0             0          0      0      0   \n",
       "12                0                 0             0          0      0      0   \n",
       "16                0                 0             0          0      0      0   \n",
       "\n",
       "    bps influence creativity threat ict_index  value  transfers_balance  \\\n",
       "0    11      11.8        0.0    0.0       1.2     50                  0   \n",
       "4     0       0.0        0.0    0.0       0.0     40                  0   \n",
       "8     0       0.0        0.0    0.0       0.0     65                  0   \n",
       "12    0       0.0        0.0    0.0       0.0    100                  0   \n",
       "16    0       0.0        0.0    0.0       0.0     45                  0   \n",
       "\n",
       "    selected  transfers_in  transfers_out    web_name  element_type  team  \\\n",
       "0     153122             0              0        Leno             1     1   \n",
       "4      91500             0              0   Rúnarsson             1     1   \n",
       "8      22000             0              0     Willian             3     1   \n",
       "12    200068             0              0  Aubameyang             4     1   \n",
       "16     17385             0              0      Cédric             2     1   \n",
       "\n",
       "   ep_this ep_next  opponent_difficulty  team_difficulty  \n",
       "0      2.0     2.0                 45.0             26.0  \n",
       "4      0.0     0.0                 45.0             26.0  \n",
       "8      0.0     0.0                 45.0             26.0  \n",
       "12     4.7     4.7                 45.0             26.0  \n",
       "16     1.3     1.3                 45.0             26.0  "
      ]
     },
     "execution_count": 14,
     "metadata": {},
     "output_type": "execute_result"
    }
   ],
   "source": [
    "df.head()"
   ]
  },
  {
   "cell_type": "code",
   "execution_count": 15,
   "metadata": {},
   "outputs": [],
   "source": [
    "labels = ['element', 'web_name', 'fixture', 'round',]\n",
    "\n",
    "# Static player attributes\n",
    "player_cols = ['element_type']#, 'ep_this', 'ep_next']\n",
    "\n",
    "# Attributes from fixture data\n",
    "fixtures_cols = ['is_home', 'team', 'team_difficulty', 'opponent_team', 'opponent_difficulty']\n",
    "\n",
    "# Historical match data - contains outcomes and things that are correlated, e.g. number of minutes played\n",
    "# Need to be lagged to use as predictors\n",
    "history_cols = ['total_points', 'bonus', 'bps', 'minutes', 'selected', 'transfers_in', 'transfers_out'] \n",
    "\n",
    "df = df[labels + player_cols + fixtures_cols + history_cols]\n",
    "\n",
    "# Others\n",
    "\n",
    "# 'goals_scored', 'assists', 'clean_sheets', 'goals_conceded',\n",
    "# 'own_goals', 'penalties_saved', 'penalties_missed', 'yellow_cards',\n",
    "# 'red_cards', 'saves', 'influence', 'creativity',\n",
    "# 'threat', 'ict_index', 'value', 'transfers_balance',\n"
   ]
  },
  {
   "cell_type": "code",
   "execution_count": 16,
   "metadata": {},
   "outputs": [
    {
     "data": {
      "text/html": [
       "<div>\n",
       "<style scoped>\n",
       "    .dataframe tbody tr th:only-of-type {\n",
       "        vertical-align: middle;\n",
       "    }\n",
       "\n",
       "    .dataframe tbody tr th {\n",
       "        vertical-align: top;\n",
       "    }\n",
       "\n",
       "    .dataframe thead th {\n",
       "        text-align: right;\n",
       "    }\n",
       "</style>\n",
       "<table border=\"1\" class=\"dataframe\">\n",
       "  <thead>\n",
       "    <tr style=\"text-align: right;\">\n",
       "      <th></th>\n",
       "      <th>element</th>\n",
       "      <th>web_name</th>\n",
       "      <th>fixture</th>\n",
       "      <th>round</th>\n",
       "      <th>element_type</th>\n",
       "      <th>is_home</th>\n",
       "      <th>team</th>\n",
       "      <th>team_difficulty</th>\n",
       "      <th>opponent_team</th>\n",
       "      <th>opponent_difficulty</th>\n",
       "      <th>total_points</th>\n",
       "      <th>bonus</th>\n",
       "      <th>bps</th>\n",
       "      <th>minutes</th>\n",
       "      <th>selected</th>\n",
       "      <th>transfers_in</th>\n",
       "      <th>transfers_out</th>\n",
       "    </tr>\n",
       "  </thead>\n",
       "  <tbody>\n",
       "    <tr>\n",
       "      <th>0</th>\n",
       "      <td>1</td>\n",
       "      <td>Leno</td>\n",
       "      <td>1</td>\n",
       "      <td>1</td>\n",
       "      <td>1</td>\n",
       "      <td>False</td>\n",
       "      <td>1</td>\n",
       "      <td>26.000000</td>\n",
       "      <td>3</td>\n",
       "      <td>45.0</td>\n",
       "      <td>1</td>\n",
       "      <td>0</td>\n",
       "      <td>11</td>\n",
       "      <td>90</td>\n",
       "      <td>153122</td>\n",
       "      <td>0</td>\n",
       "      <td>0</td>\n",
       "    </tr>\n",
       "    <tr>\n",
       "      <th>4</th>\n",
       "      <td>2</td>\n",
       "      <td>Rúnarsson</td>\n",
       "      <td>1</td>\n",
       "      <td>1</td>\n",
       "      <td>1</td>\n",
       "      <td>False</td>\n",
       "      <td>1</td>\n",
       "      <td>26.000000</td>\n",
       "      <td>3</td>\n",
       "      <td>45.0</td>\n",
       "      <td>0</td>\n",
       "      <td>0</td>\n",
       "      <td>0</td>\n",
       "      <td>0</td>\n",
       "      <td>91500</td>\n",
       "      <td>0</td>\n",
       "      <td>0</td>\n",
       "    </tr>\n",
       "    <tr>\n",
       "      <th>8</th>\n",
       "      <td>3</td>\n",
       "      <td>Willian</td>\n",
       "      <td>1</td>\n",
       "      <td>1</td>\n",
       "      <td>3</td>\n",
       "      <td>False</td>\n",
       "      <td>1</td>\n",
       "      <td>26.000000</td>\n",
       "      <td>3</td>\n",
       "      <td>45.0</td>\n",
       "      <td>0</td>\n",
       "      <td>0</td>\n",
       "      <td>0</td>\n",
       "      <td>0</td>\n",
       "      <td>22000</td>\n",
       "      <td>0</td>\n",
       "      <td>0</td>\n",
       "    </tr>\n",
       "    <tr>\n",
       "      <th>12</th>\n",
       "      <td>4</td>\n",
       "      <td>Aubameyang</td>\n",
       "      <td>1</td>\n",
       "      <td>1</td>\n",
       "      <td>4</td>\n",
       "      <td>False</td>\n",
       "      <td>1</td>\n",
       "      <td>26.000000</td>\n",
       "      <td>3</td>\n",
       "      <td>45.0</td>\n",
       "      <td>0</td>\n",
       "      <td>0</td>\n",
       "      <td>0</td>\n",
       "      <td>0</td>\n",
       "      <td>200068</td>\n",
       "      <td>0</td>\n",
       "      <td>0</td>\n",
       "    </tr>\n",
       "    <tr>\n",
       "      <th>16</th>\n",
       "      <td>5</td>\n",
       "      <td>Cédric</td>\n",
       "      <td>1</td>\n",
       "      <td>1</td>\n",
       "      <td>2</td>\n",
       "      <td>False</td>\n",
       "      <td>1</td>\n",
       "      <td>26.000000</td>\n",
       "      <td>3</td>\n",
       "      <td>45.0</td>\n",
       "      <td>0</td>\n",
       "      <td>0</td>\n",
       "      <td>0</td>\n",
       "      <td>0</td>\n",
       "      <td>17385</td>\n",
       "      <td>0</td>\n",
       "      <td>0</td>\n",
       "    </tr>\n",
       "    <tr>\n",
       "      <th>...</th>\n",
       "      <td>...</td>\n",
       "      <td>...</td>\n",
       "      <td>...</td>\n",
       "      <td>...</td>\n",
       "      <td>...</td>\n",
       "      <td>...</td>\n",
       "      <td>...</td>\n",
       "      <td>...</td>\n",
       "      <td>...</td>\n",
       "      <td>...</td>\n",
       "      <td>...</td>\n",
       "      <td>...</td>\n",
       "      <td>...</td>\n",
       "      <td>...</td>\n",
       "      <td>...</td>\n",
       "      <td>...</td>\n",
       "      <td>...</td>\n",
       "    </tr>\n",
       "    <tr>\n",
       "      <th>1138</th>\n",
       "      <td>463</td>\n",
       "      <td>Firpo</td>\n",
       "      <td>6</td>\n",
       "      <td>1</td>\n",
       "      <td>2</td>\n",
       "      <td>False</td>\n",
       "      <td>10</td>\n",
       "      <td>17.166667</td>\n",
       "      <td>13</td>\n",
       "      <td>55.0</td>\n",
       "      <td>-1</td>\n",
       "      <td>0</td>\n",
       "      <td>4</td>\n",
       "      <td>45</td>\n",
       "      <td>61450</td>\n",
       "      <td>0</td>\n",
       "      <td>0</td>\n",
       "    </tr>\n",
       "    <tr>\n",
       "      <th>1142</th>\n",
       "      <td>490</td>\n",
       "      <td>Klaesson</td>\n",
       "      <td>6</td>\n",
       "      <td>1</td>\n",
       "      <td>1</td>\n",
       "      <td>False</td>\n",
       "      <td>10</td>\n",
       "      <td>17.166667</td>\n",
       "      <td>13</td>\n",
       "      <td>55.0</td>\n",
       "      <td>0</td>\n",
       "      <td>0</td>\n",
       "      <td>0</td>\n",
       "      <td>0</td>\n",
       "      <td>9800</td>\n",
       "      <td>0</td>\n",
       "      <td>0</td>\n",
       "    </tr>\n",
       "    <tr>\n",
       "      <th>1146</th>\n",
       "      <td>550</td>\n",
       "      <td>Greenwood</td>\n",
       "      <td>6</td>\n",
       "      <td>1</td>\n",
       "      <td>4</td>\n",
       "      <td>False</td>\n",
       "      <td>10</td>\n",
       "      <td>17.166667</td>\n",
       "      <td>13</td>\n",
       "      <td>55.0</td>\n",
       "      <td>0</td>\n",
       "      <td>0</td>\n",
       "      <td>0</td>\n",
       "      <td>0</td>\n",
       "      <td>0</td>\n",
       "      <td>0</td>\n",
       "      <td>0</td>\n",
       "    </tr>\n",
       "    <tr>\n",
       "      <th>1150</th>\n",
       "      <td>551</td>\n",
       "      <td>Summerville</td>\n",
       "      <td>6</td>\n",
       "      <td>1</td>\n",
       "      <td>3</td>\n",
       "      <td>False</td>\n",
       "      <td>10</td>\n",
       "      <td>17.166667</td>\n",
       "      <td>13</td>\n",
       "      <td>55.0</td>\n",
       "      <td>0</td>\n",
       "      <td>0</td>\n",
       "      <td>0</td>\n",
       "      <td>0</td>\n",
       "      <td>0</td>\n",
       "      <td>0</td>\n",
       "      <td>0</td>\n",
       "    </tr>\n",
       "    <tr>\n",
       "      <th>1154</th>\n",
       "      <td>552</td>\n",
       "      <td>Forshaw</td>\n",
       "      <td>6</td>\n",
       "      <td>1</td>\n",
       "      <td>3</td>\n",
       "      <td>False</td>\n",
       "      <td>10</td>\n",
       "      <td>17.166667</td>\n",
       "      <td>13</td>\n",
       "      <td>55.0</td>\n",
       "      <td>0</td>\n",
       "      <td>0</td>\n",
       "      <td>0</td>\n",
       "      <td>0</td>\n",
       "      <td>0</td>\n",
       "      <td>0</td>\n",
       "      <td>0</td>\n",
       "    </tr>\n",
       "  </tbody>\n",
       "</table>\n",
       "<p>2296 rows × 17 columns</p>\n",
       "</div>"
      ],
      "text/plain": [
       "      element     web_name  fixture  round  element_type  is_home  team  \\\n",
       "0           1         Leno        1      1             1    False     1   \n",
       "4           2    Rúnarsson        1      1             1    False     1   \n",
       "8           3      Willian        1      1             3    False     1   \n",
       "12          4   Aubameyang        1      1             4    False     1   \n",
       "16          5       Cédric        1      1             2    False     1   \n",
       "...       ...          ...      ...    ...           ...      ...   ...   \n",
       "1138      463        Firpo        6      1             2    False    10   \n",
       "1142      490     Klaesson        6      1             1    False    10   \n",
       "1146      550    Greenwood        6      1             4    False    10   \n",
       "1150      551  Summerville        6      1             3    False    10   \n",
       "1154      552      Forshaw        6      1             3    False    10   \n",
       "\n",
       "      team_difficulty  opponent_team  opponent_difficulty  total_points  \\\n",
       "0           26.000000              3                 45.0             1   \n",
       "4           26.000000              3                 45.0             0   \n",
       "8           26.000000              3                 45.0             0   \n",
       "12          26.000000              3                 45.0             0   \n",
       "16          26.000000              3                 45.0             0   \n",
       "...               ...            ...                  ...           ...   \n",
       "1138        17.166667             13                 55.0            -1   \n",
       "1142        17.166667             13                 55.0             0   \n",
       "1146        17.166667             13                 55.0             0   \n",
       "1150        17.166667             13                 55.0             0   \n",
       "1154        17.166667             13                 55.0             0   \n",
       "\n",
       "      bonus  bps  minutes  selected  transfers_in  transfers_out  \n",
       "0         0   11       90    153122             0              0  \n",
       "4         0    0        0     91500             0              0  \n",
       "8         0    0        0     22000             0              0  \n",
       "12        0    0        0    200068             0              0  \n",
       "16        0    0        0     17385             0              0  \n",
       "...     ...  ...      ...       ...           ...            ...  \n",
       "1138      0    4       45     61450             0              0  \n",
       "1142      0    0        0      9800             0              0  \n",
       "1146      0    0        0         0             0              0  \n",
       "1150      0    0        0         0             0              0  \n",
       "1154      0    0        0         0             0              0  \n",
       "\n",
       "[2296 rows x 17 columns]"
      ]
     },
     "execution_count": 16,
     "metadata": {},
     "output_type": "execute_result"
    }
   ],
   "source": [
    "df"
   ]
  },
  {
   "cell_type": "code",
   "execution_count": 17,
   "metadata": {},
   "outputs": [
    {
     "data": {
      "text/plain": [
       "<AxesSubplot:>"
      ]
     },
     "execution_count": 17,
     "metadata": {},
     "output_type": "execute_result"
    },
    {
     "data": {
      "image/png": "[encoded data removed]",
      "text/plain": [
       "<Figure size 432x288 with 1 Axes>"
      ]
     },
     "metadata": {
      "needs_background": "light"
     },
     "output_type": "display_data"
    }
   ],
   "source": [
    "df.total_points.hist(bins=50)"
   ]
  },
  {
   "cell_type": "markdown",
   "metadata": {},
   "source": [
    "### Feature generation\n",
    "<hr>"
   ]
  },
  {
   "cell_type": "code",
   "execution_count": 18,
   "metadata": {},
   "outputs": [],
   "source": [
    "def rolling_avg(df, window, col, default):\n",
    "    rolling = pd.Series(dtype='float64')\n",
    "    for x in df.element.unique():\n",
    "        rolling = rolling.append(df[df.element==x].sort_values('fixture').rolling(window)[col].mean().shift(1))\n",
    "    \n",
    "    # Fill nas with default val\n",
    "    rolling = rolling.fillna(default)\n",
    "    \n",
    "    rolling.name = f\"avg_{col}_L{window}\"\n",
    "    return df.merge(rolling, left_index=True, right_index=True)"
   ]
  },
  {
   "cell_type": "code",
   "execution_count": 19,
   "metadata": {},
   "outputs": [
    {
     "name": "stderr",
     "output_type": "stream",
     "text": [
      "100%|███████████████████████████████████████████████████████████████████████████████████████████████████████████| 7/7 [00:06<00:00,  1.08it/s]\n"
     ]
    }
   ],
   "source": [
    "for var in tqdm(history_cols): # we can use previous outcomes to predict next values\n",
    "    df = rolling_avg(df, 1, var, 0)"
   ]
  },
  {
   "cell_type": "code",
   "execution_count": 20,
   "metadata": {},
   "outputs": [
    {
     "data": {
      "text/html": [
       "<div>\n",
       "<style scoped>\n",
       "    .dataframe tbody tr th:only-of-type {\n",
       "        vertical-align: middle;\n",
       "    }\n",
       "\n",
       "    .dataframe tbody tr th {\n",
       "        vertical-align: top;\n",
       "    }\n",
       "\n",
       "    .dataframe thead th {\n",
       "        text-align: right;\n",
       "    }\n",
       "</style>\n",
       "<table border=\"1\" class=\"dataframe\">\n",
       "  <thead>\n",
       "    <tr style=\"text-align: right;\">\n",
       "      <th></th>\n",
       "      <th>element</th>\n",
       "      <th>web_name</th>\n",
       "      <th>fixture</th>\n",
       "      <th>round</th>\n",
       "      <th>element_type</th>\n",
       "      <th>is_home</th>\n",
       "      <th>team</th>\n",
       "      <th>team_difficulty</th>\n",
       "      <th>opponent_team</th>\n",
       "      <th>opponent_difficulty</th>\n",
       "      <th>total_points</th>\n",
       "      <th>bonus</th>\n",
       "      <th>bps</th>\n",
       "      <th>minutes</th>\n",
       "      <th>selected</th>\n",
       "      <th>transfers_in</th>\n",
       "      <th>transfers_out</th>\n",
       "      <th>avg_total_points_L1</th>\n",
       "      <th>avg_bonus_L1</th>\n",
       "      <th>avg_bps_L1</th>\n",
       "      <th>avg_minutes_L1</th>\n",
       "      <th>avg_selected_L1</th>\n",
       "      <th>avg_transfers_in_L1</th>\n",
       "      <th>avg_transfers_out_L1</th>\n",
       "    </tr>\n",
       "  </thead>\n",
       "  <tbody>\n",
       "    <tr>\n",
       "      <th>0</th>\n",
       "      <td>1</td>\n",
       "      <td>Leno</td>\n",
       "      <td>1</td>\n",
       "      <td>1</td>\n",
       "      <td>1</td>\n",
       "      <td>False</td>\n",
       "      <td>1</td>\n",
       "      <td>26.0</td>\n",
       "      <td>3</td>\n",
       "      <td>45.00</td>\n",
       "      <td>1</td>\n",
       "      <td>0</td>\n",
       "      <td>11</td>\n",
       "      <td>90</td>\n",
       "      <td>153122</td>\n",
       "      <td>0</td>\n",
       "      <td>0</td>\n",
       "      <td>0.0</td>\n",
       "      <td>0.0</td>\n",
       "      <td>0.0</td>\n",
       "      <td>0.0</td>\n",
       "      <td>0.0</td>\n",
       "      <td>0.0</td>\n",
       "      <td>0.0</td>\n",
       "    </tr>\n",
       "    <tr>\n",
       "      <th>1</th>\n",
       "      <td>1</td>\n",
       "      <td>Leno</td>\n",
       "      <td>18</td>\n",
       "      <td>2</td>\n",
       "      <td>1</td>\n",
       "      <td>True</td>\n",
       "      <td>1</td>\n",
       "      <td>26.0</td>\n",
       "      <td>6</td>\n",
       "      <td>65.00</td>\n",
       "      <td>2</td>\n",
       "      <td>0</td>\n",
       "      <td>17</td>\n",
       "      <td>90</td>\n",
       "      <td>144885</td>\n",
       "      <td>2627</td>\n",
       "      <td>28443</td>\n",
       "      <td>1.0</td>\n",
       "      <td>0.0</td>\n",
       "      <td>11.0</td>\n",
       "      <td>90.0</td>\n",
       "      <td>153122.0</td>\n",
       "      <td>0.0</td>\n",
       "      <td>0.0</td>\n",
       "    </tr>\n",
       "    <tr>\n",
       "      <th>2</th>\n",
       "      <td>1</td>\n",
       "      <td>Leno</td>\n",
       "      <td>24</td>\n",
       "      <td>3</td>\n",
       "      <td>1</td>\n",
       "      <td>False</td>\n",
       "      <td>1</td>\n",
       "      <td>26.0</td>\n",
       "      <td>12</td>\n",
       "      <td>64.75</td>\n",
       "      <td>1</td>\n",
       "      <td>0</td>\n",
       "      <td>20</td>\n",
       "      <td>90</td>\n",
       "      <td>136757</td>\n",
       "      <td>5164</td>\n",
       "      <td>19723</td>\n",
       "      <td>2.0</td>\n",
       "      <td>0.0</td>\n",
       "      <td>17.0</td>\n",
       "      <td>90.0</td>\n",
       "      <td>144885.0</td>\n",
       "      <td>2627.0</td>\n",
       "      <td>28443.0</td>\n",
       "    </tr>\n",
       "    <tr>\n",
       "      <th>3</th>\n",
       "      <td>1</td>\n",
       "      <td>Leno</td>\n",
       "      <td>31</td>\n",
       "      <td>4</td>\n",
       "      <td>1</td>\n",
       "      <td>True</td>\n",
       "      <td>1</td>\n",
       "      <td>26.0</td>\n",
       "      <td>15</td>\n",
       "      <td>16.80</td>\n",
       "      <td>0</td>\n",
       "      <td>0</td>\n",
       "      <td>0</td>\n",
       "      <td>0</td>\n",
       "      <td>153130</td>\n",
       "      <td>35360</td>\n",
       "      <td>28796</td>\n",
       "      <td>1.0</td>\n",
       "      <td>0.0</td>\n",
       "      <td>20.0</td>\n",
       "      <td>90.0</td>\n",
       "      <td>136757.0</td>\n",
       "      <td>5164.0</td>\n",
       "      <td>19723.0</td>\n",
       "    </tr>\n",
       "    <tr>\n",
       "      <th>4</th>\n",
       "      <td>2</td>\n",
       "      <td>Rúnarsson</td>\n",
       "      <td>1</td>\n",
       "      <td>1</td>\n",
       "      <td>1</td>\n",
       "      <td>False</td>\n",
       "      <td>1</td>\n",
       "      <td>26.0</td>\n",
       "      <td>3</td>\n",
       "      <td>45.00</td>\n",
       "      <td>0</td>\n",
       "      <td>0</td>\n",
       "      <td>0</td>\n",
       "      <td>0</td>\n",
       "      <td>91500</td>\n",
       "      <td>0</td>\n",
       "      <td>0</td>\n",
       "      <td>0.0</td>\n",
       "      <td>0.0</td>\n",
       "      <td>0.0</td>\n",
       "      <td>0.0</td>\n",
       "      <td>0.0</td>\n",
       "      <td>0.0</td>\n",
       "      <td>0.0</td>\n",
       "    </tr>\n",
       "    <tr>\n",
       "      <th>5</th>\n",
       "      <td>2</td>\n",
       "      <td>Rúnarsson</td>\n",
       "      <td>18</td>\n",
       "      <td>2</td>\n",
       "      <td>1</td>\n",
       "      <td>True</td>\n",
       "      <td>1</td>\n",
       "      <td>26.0</td>\n",
       "      <td>6</td>\n",
       "      <td>65.00</td>\n",
       "      <td>0</td>\n",
       "      <td>0</td>\n",
       "      <td>0</td>\n",
       "      <td>0</td>\n",
       "      <td>105244</td>\n",
       "      <td>5814</td>\n",
       "      <td>5249</td>\n",
       "      <td>0.0</td>\n",
       "      <td>0.0</td>\n",
       "      <td>0.0</td>\n",
       "      <td>0.0</td>\n",
       "      <td>91500.0</td>\n",
       "      <td>0.0</td>\n",
       "      <td>0.0</td>\n",
       "    </tr>\n",
       "    <tr>\n",
       "      <th>6</th>\n",
       "      <td>2</td>\n",
       "      <td>Rúnarsson</td>\n",
       "      <td>24</td>\n",
       "      <td>3</td>\n",
       "      <td>1</td>\n",
       "      <td>False</td>\n",
       "      <td>1</td>\n",
       "      <td>26.0</td>\n",
       "      <td>12</td>\n",
       "      <td>64.75</td>\n",
       "      <td>0</td>\n",
       "      <td>0</td>\n",
       "      <td>0</td>\n",
       "      <td>0</td>\n",
       "      <td>104983</td>\n",
       "      <td>4471</td>\n",
       "      <td>6925</td>\n",
       "      <td>0.0</td>\n",
       "      <td>0.0</td>\n",
       "      <td>0.0</td>\n",
       "      <td>0.0</td>\n",
       "      <td>105244.0</td>\n",
       "      <td>5814.0</td>\n",
       "      <td>5249.0</td>\n",
       "    </tr>\n",
       "    <tr>\n",
       "      <th>7</th>\n",
       "      <td>2</td>\n",
       "      <td>Rúnarsson</td>\n",
       "      <td>31</td>\n",
       "      <td>4</td>\n",
       "      <td>1</td>\n",
       "      <td>True</td>\n",
       "      <td>1</td>\n",
       "      <td>26.0</td>\n",
       "      <td>15</td>\n",
       "      <td>16.80</td>\n",
       "      <td>0</td>\n",
       "      <td>0</td>\n",
       "      <td>0</td>\n",
       "      <td>0</td>\n",
       "      <td>95398</td>\n",
       "      <td>8732</td>\n",
       "      <td>20189</td>\n",
       "      <td>0.0</td>\n",
       "      <td>0.0</td>\n",
       "      <td>0.0</td>\n",
       "      <td>0.0</td>\n",
       "      <td>104983.0</td>\n",
       "      <td>4471.0</td>\n",
       "      <td>6925.0</td>\n",
       "    </tr>\n",
       "    <tr>\n",
       "      <th>8</th>\n",
       "      <td>3</td>\n",
       "      <td>Willian</td>\n",
       "      <td>1</td>\n",
       "      <td>1</td>\n",
       "      <td>3</td>\n",
       "      <td>False</td>\n",
       "      <td>1</td>\n",
       "      <td>26.0</td>\n",
       "      <td>3</td>\n",
       "      <td>45.00</td>\n",
       "      <td>0</td>\n",
       "      <td>0</td>\n",
       "      <td>0</td>\n",
       "      <td>0</td>\n",
       "      <td>22000</td>\n",
       "      <td>0</td>\n",
       "      <td>0</td>\n",
       "      <td>0.0</td>\n",
       "      <td>0.0</td>\n",
       "      <td>0.0</td>\n",
       "      <td>0.0</td>\n",
       "      <td>0.0</td>\n",
       "      <td>0.0</td>\n",
       "      <td>0.0</td>\n",
       "    </tr>\n",
       "    <tr>\n",
       "      <th>9</th>\n",
       "      <td>3</td>\n",
       "      <td>Willian</td>\n",
       "      <td>18</td>\n",
       "      <td>2</td>\n",
       "      <td>3</td>\n",
       "      <td>True</td>\n",
       "      <td>1</td>\n",
       "      <td>26.0</td>\n",
       "      <td>6</td>\n",
       "      <td>65.00</td>\n",
       "      <td>0</td>\n",
       "      <td>0</td>\n",
       "      <td>0</td>\n",
       "      <td>0</td>\n",
       "      <td>18418</td>\n",
       "      <td>710</td>\n",
       "      <td>7955</td>\n",
       "      <td>0.0</td>\n",
       "      <td>0.0</td>\n",
       "      <td>0.0</td>\n",
       "      <td>0.0</td>\n",
       "      <td>22000.0</td>\n",
       "      <td>0.0</td>\n",
       "      <td>0.0</td>\n",
       "    </tr>\n",
       "  </tbody>\n",
       "</table>\n",
       "</div>"
      ],
      "text/plain": [
       "   element   web_name  fixture  round  element_type  is_home  team  \\\n",
       "0        1       Leno        1      1             1    False     1   \n",
       "1        1       Leno       18      2             1     True     1   \n",
       "2        1       Leno       24      3             1    False     1   \n",
       "3        1       Leno       31      4             1     True     1   \n",
       "4        2  Rúnarsson        1      1             1    False     1   \n",
       "5        2  Rúnarsson       18      2             1     True     1   \n",
       "6        2  Rúnarsson       24      3             1    False     1   \n",
       "7        2  Rúnarsson       31      4             1     True     1   \n",
       "8        3    Willian        1      1             3    False     1   \n",
       "9        3    Willian       18      2             3     True     1   \n",
       "\n",
       "   team_difficulty  opponent_team  opponent_difficulty  total_points  bonus  \\\n",
       "0             26.0              3                45.00             1      0   \n",
       "1             26.0              6                65.00             2      0   \n",
       "2             26.0             12                64.75             1      0   \n",
       "3             26.0             15                16.80             0      0   \n",
       "4             26.0              3                45.00             0      0   \n",
       "5             26.0              6                65.00             0      0   \n",
       "6             26.0             12                64.75             0      0   \n",
       "7             26.0             15                16.80             0      0   \n",
       "8             26.0              3                45.00             0      0   \n",
       "9             26.0              6                65.00             0      0   \n",
       "\n",
       "   bps  minutes  selected  transfers_in  transfers_out  avg_total_points_L1  \\\n",
       "0   11       90    153122             0              0                  0.0   \n",
       "1   17       90    144885          2627          28443                  1.0   \n",
       "2   20       90    136757          5164          19723                  2.0   \n",
       "3    0        0    153130         35360          28796                  1.0   \n",
       "4    0        0     91500             0              0                  0.0   \n",
       "5    0        0    105244          5814           5249                  0.0   \n",
       "6    0        0    104983          4471           6925                  0.0   \n",
       "7    0        0     95398          8732          20189                  0.0   \n",
       "8    0        0     22000             0              0                  0.0   \n",
       "9    0        0     18418           710           7955                  0.0   \n",
       "\n",
       "   avg_bonus_L1  avg_bps_L1  avg_minutes_L1  avg_selected_L1  \\\n",
       "0           0.0         0.0             0.0              0.0   \n",
       "1           0.0        11.0            90.0         153122.0   \n",
       "2           0.0        17.0            90.0         144885.0   \n",
       "3           0.0        20.0            90.0         136757.0   \n",
       "4           0.0         0.0             0.0              0.0   \n",
       "5           0.0         0.0             0.0          91500.0   \n",
       "6           0.0         0.0             0.0         105244.0   \n",
       "7           0.0         0.0             0.0         104983.0   \n",
       "8           0.0         0.0             0.0              0.0   \n",
       "9           0.0         0.0             0.0          22000.0   \n",
       "\n",
       "   avg_transfers_in_L1  avg_transfers_out_L1  \n",
       "0                  0.0                   0.0  \n",
       "1                  0.0                   0.0  \n",
       "2               2627.0               28443.0  \n",
       "3               5164.0               19723.0  \n",
       "4                  0.0                   0.0  \n",
       "5                  0.0                   0.0  \n",
       "6               5814.0                5249.0  \n",
       "7               4471.0                6925.0  \n",
       "8                  0.0                   0.0  \n",
       "9                  0.0                   0.0  "
      ]
     },
     "execution_count": 20,
     "metadata": {},
     "output_type": "execute_result"
    }
   ],
   "source": [
    "df.sort_index().head(10)"
   ]
  },
  {
   "cell_type": "markdown",
   "metadata": {},
   "source": [
    "### Build model\n",
    "<hr>"
   ]
  },
  {
   "cell_type": "code",
   "execution_count": 21,
   "metadata": {},
   "outputs": [],
   "source": [
    "from sklearn.ensemble import RandomForestRegressor\n",
    "from sklearn.model_selection import train_test_split\n",
    "from sklearn.metrics import r2_score"
   ]
  },
  {
   "cell_type": "code",
   "execution_count": 22,
   "metadata": {},
   "outputs": [],
   "source": [
    "# only use data where rolling metrics are populated\n",
    "df = df[df['round'] > 1]"
   ]
  },
  {
   "cell_type": "code",
   "execution_count": 23,
   "metadata": {},
   "outputs": [],
   "source": [
    "df.element_type = df.element_type.astype(str)\n",
    "df.team = df.team.astype(str)\n",
    "df.opponent_team = df.opponent_team.astype(str)"
   ]
  },
  {
   "cell_type": "code",
   "execution_count": 24,
   "metadata": {
    "scrolled": true
   },
   "outputs": [],
   "source": [
    "covars = [name for name in df.columns if name not in labels + history_cols]\n",
    "\n",
    "X = df[covars]\n",
    "y = df.total_points"
   ]
  },
  {
   "cell_type": "code",
   "execution_count": 25,
   "metadata": {},
   "outputs": [
    {
     "data": {
      "text/plain": [
       "element_type             object\n",
       "is_home                    bool\n",
       "team                     object\n",
       "team_difficulty         float64\n",
       "opponent_team            object\n",
       "opponent_difficulty     float64\n",
       "avg_total_points_L1     float64\n",
       "avg_bonus_L1            float64\n",
       "avg_bps_L1              float64\n",
       "avg_minutes_L1          float64\n",
       "avg_selected_L1         float64\n",
       "avg_transfers_in_L1     float64\n",
       "avg_transfers_out_L1    float64\n",
       "dtype: object"
      ]
     },
     "execution_count": 25,
     "metadata": {},
     "output_type": "execute_result"
    }
   ],
   "source": [
    "X.dtypes"
   ]
  },
  {
   "cell_type": "code",
   "execution_count": 26,
   "metadata": {},
   "outputs": [],
   "source": [
    "# Custom train/test split to ensure all player observations in same set\n",
    "# To prevent overstating test performance\n",
    "elements = list(df.element.unique())\n",
    "test_elements = random.sample(elements, len(elements) // 4)\n",
    "mask = np.array([(x in test_elements) for x in df.element])\n"
   ]
  },
  {
   "cell_type": "code",
   "execution_count": 27,
   "metadata": {},
   "outputs": [],
   "source": [
    "X_train = X[~mask]\n",
    "y_train = y[~mask]\n",
    "X_test = X[mask]\n",
    "y_test = y[mask]"
   ]
  },
  {
   "cell_type": "code",
   "execution_count": 28,
   "metadata": {},
   "outputs": [],
   "source": [
    "train = (X_train, y_train)\n",
    "test = (X_test, y_test)"
   ]
  },
  {
   "cell_type": "code",
   "execution_count": 29,
   "metadata": {},
   "outputs": [
    {
     "data": {
      "text/plain": [
       "((1307, 13), (435, 13))"
      ]
     },
     "execution_count": 29,
     "metadata": {},
     "output_type": "execute_result"
    }
   ],
   "source": [
    "X_train.shape, X_test.shape"
   ]
  },
  {
   "cell_type": "code",
   "execution_count": 30,
   "metadata": {},
   "outputs": [],
   "source": [
    "reg = RandomForestRegressor(min_samples_split=100)"
   ]
  },
  {
   "cell_type": "code",
   "execution_count": 31,
   "metadata": {},
   "outputs": [
    {
     "data": {
      "text/plain": [
       "RandomForestRegressor(min_samples_split=100)"
      ]
     },
     "execution_count": 31,
     "metadata": {},
     "output_type": "execute_result"
    }
   ],
   "source": [
    "reg.fit(*train)"
   ]
  },
  {
   "cell_type": "code",
   "execution_count": 32,
   "metadata": {},
   "outputs": [
    {
     "data": {
      "text/plain": [
       "<AxesSubplot:>"
      ]
     },
     "execution_count": 32,
     "metadata": {},
     "output_type": "execute_result"
    },
    {
     "data": {
      "image/png": "[encoded data removed]",
      "text/plain": [
       "<Figure size 432x288 with 1 Axes>"
      ]
     },
     "metadata": {
      "needs_background": "light"
     },
     "output_type": "display_data"
    }
   ],
   "source": [
    "pd.DataFrame(reg.feature_importances_, index=covars, columns=['importance']) \\\n",
    "    .sort_values('importance').plot(kind='barh')"
   ]
  },
  {
   "cell_type": "code",
   "execution_count": 33,
   "metadata": {},
   "outputs": [
    {
     "name": "stdout",
     "output_type": "stream",
     "text": [
      "Train 0.43410769466394605\n",
      " Test 0.29580342815630445\n"
     ]
    }
   ],
   "source": [
    "print(f\"Train {reg.score(*train)}\")\n",
    "print(f\" Test {reg.score(*test)}\")"
   ]
  },
  {
   "cell_type": "code",
   "execution_count": 34,
   "metadata": {},
   "outputs": [],
   "source": [
    "# Change Log (Test performance)\n",
    "\n",
    "# 0.4000 - using ep_this, ep_next\n",
    "# 0.1528 - baseline\n",
    "# 0.1693 - more vars\n",
    "# 0.1654 - new train test split to keep all player observations in one set and avoid overstating test performance\n",
    "# 0.2757 - training/evaluation done on rows where rolling metrics are populated\n",
    "# 0.2920 - teams labels and my team difficulty"
   ]
  },
  {
   "cell_type": "code",
   "execution_count": 35,
   "metadata": {},
   "outputs": [],
   "source": [
    "def scatter(df, x, y, noise=False):\n",
    "    \"\"\"Scatter plot with random noise to facilitate comparing continuous predictions with integer scores\"\"\"\n",
    "    jitter = df[[x, y]]\n",
    "    \n",
    "    if noise:\n",
    "        nx = np.random.normal(0, 0.2, len(df)) \n",
    "        ny = np.random.normal(0, 0.2, len(df)) \n",
    "        jitter[x] += nx\n",
    "        jitter[y] += ny\n",
    "\n",
    "    jitter.plot.scatter(x, y)"
   ]
  },
  {
   "cell_type": "code",
   "execution_count": 36,
   "metadata": {},
   "outputs": [],
   "source": [
    "# Parameter tuning\n",
    "# results = []\n",
    "# for n in tqdm([2, 5, 10, 20, 50, 100, 200, 500, 1000]):\n",
    "#     reg = RandomForestRegressor(n_estimators=n, min_samples_split=100)\n",
    "#     reg.fit(X_train, y_train)\n",
    "#     results.append((n, reg.score(*train), reg.score(*test)))\n",
    "\n",
    "# pd.DataFrame(results, columns=['ntrees', 'train', 'test']).set_index('ntrees').plot()"
   ]
  },
  {
   "cell_type": "code",
   "execution_count": 37,
   "metadata": {},
   "outputs": [
    {
     "data": {
      "text/plain": [
       "<AxesSubplot:>"
      ]
     },
     "execution_count": 37,
     "metadata": {},
     "output_type": "execute_result"
    },
    {
     "data": {
      "image/png": "[encoded data removed]",
      "text/plain": [
       "<Figure size 432x288 with 1 Axes>"
      ]
     },
     "metadata": {
      "needs_background": "light"
     },
     "output_type": "display_data"
    }
   ],
   "source": [
    "df['predicted_points'] = reg.predict(df[covars])\n",
    "df['predicted_points'].hist(bins=50)"
   ]
  },
  {
   "cell_type": "code",
   "execution_count": 38,
   "metadata": {},
   "outputs": [
    {
     "name": "stderr",
     "output_type": "stream",
     "text": [
      "/var/folders/l7/z2rc83xj63j94dmctwtwhw5c0000gn/T/ipykernel_1130/2415938938.py:8: SettingWithCopyWarning: \n",
      "A value is trying to be set on a copy of a slice from a DataFrame.\n",
      "Try using .loc[row_indexer,col_indexer] = value instead\n",
      "\n",
      "See the caveats in the documentation: https://pandas.pydata.org/pandas-docs/stable/user_guide/indexing.html#returning-a-view-versus-a-copy\n",
      "  jitter[x] += nx\n",
      "/var/folders/l7/z2rc83xj63j94dmctwtwhw5c0000gn/T/ipykernel_1130/2415938938.py:9: SettingWithCopyWarning: \n",
      "A value is trying to be set on a copy of a slice from a DataFrame.\n",
      "Try using .loc[row_indexer,col_indexer] = value instead\n",
      "\n",
      "See the caveats in the documentation: https://pandas.pydata.org/pandas-docs/stable/user_guide/indexing.html#returning-a-view-versus-a-copy\n",
      "  jitter[y] += ny\n"
     ]
    },
    {
     "data": {
      "image/png": "[encoded data removed]",
      "text/plain": [
       "<Figure size 432x288 with 1 Axes>"
      ]
     },
     "metadata": {
      "needs_background": "light"
     },
     "output_type": "display_data"
    }
   ],
   "source": [
    "scatter(df, 'total_points', 'predicted_points', noise=True)"
   ]
  },
  {
   "cell_type": "code",
   "execution_count": 39,
   "metadata": {},
   "outputs": [
    {
     "data": {
      "image/png": "[encoded data removed]",
      "text/plain": [
       "<Figure size 432x288 with 1 Axes>"
      ]
     },
     "metadata": {
      "needs_background": "light"
     },
     "output_type": "display_data"
    },
    {
     "data": {
      "image/png": "[encoded data removed]",
      "text/plain": [
       "<Figure size 432x288 with 1 Axes>"
      ]
     },
     "metadata": {
      "needs_background": "light"
     },
     "output_type": "display_data"
    },
    {
     "data": {
      "image/png": "[encoded data removed]",
      "text/plain": [
       "<Figure size 432x288 with 1 Axes>"
      ]
     },
     "metadata": {
      "needs_background": "light"
     },
     "output_type": "display_data"
    },
    {
     "data": {
      "image/png": "[encoded data removed]",
      "text/plain": [
       "<Figure size 432x288 with 1 Axes>"
      ]
     },
     "metadata": {
      "needs_background": "light"
     },
     "output_type": "display_data"
    },
    {
     "data": {
      "image/png": "[encoded data removed]",
      "text/plain": [
       "<Figure size 432x288 with 1 Axes>"
      ]
     },
     "metadata": {
      "needs_background": "light"
     },
     "output_type": "display_data"
    },
    {
     "data": {
      "image/png": "[encoded data removed]",
      "text/plain": [
       "<Figure size 432x288 with 1 Axes>"
      ]
     },
     "metadata": {
      "needs_background": "light"
     },
     "output_type": "display_data"
    },
    {
     "data": {
      "image/png": "[encoded data removed]",
      "text/plain": [
       "<Figure size 432x288 with 1 Axes>"
      ]
     },
     "metadata": {
      "needs_background": "light"
     },
     "output_type": "display_data"
    },
    {
     "data": {
      "image/png": "[encoded data removed]",
      "text/plain": [
       "<Figure size 432x288 with 1 Axes>"
      ]
     },
     "metadata": {
      "needs_background": "light"
     },
     "output_type": "display_data"
    },
    {
     "data": {
      "image/png": "[encoded data removed]",
      "text/plain": [
       "<Figure size 432x288 with 1 Axes>"
      ]
     },
     "metadata": {
      "needs_background": "light"
     },
     "output_type": "display_data"
    },
    {
     "data": {
      "image/png": "[encoded data removed]",
      "text/plain": [
       "<Figure size 432x288 with 1 Axes>"
      ]
     },
     "metadata": {
      "needs_background": "light"
     },
     "output_type": "display_data"
    }
   ],
   "source": [
    "def plot_predicted_points(df, pid):\n",
    "    player = df[df.element==pid]\n",
    "    player.set_index('fixture').sort_index()[['predicted_points', 'total_points']].plot(\n",
    "        kind='bar', ylim=(-5, 25), title=f\"{player.web_name.iloc[0]} ({pid})\"\n",
    "    )\n",
    "\n",
    "for pid in df.element.unique()[:10]:\n",
    "    plot_predicted_points(df, pid)"
   ]
  },
  {
   "cell_type": "code",
   "execution_count": 40,
   "metadata": {},
   "outputs": [
    {
     "data": {
      "image/png": "[encoded data removed]",
      "text/plain": [
       "<Figure size 432x288 with 1 Axes>"
      ]
     },
     "metadata": {
      "needs_background": "light"
     },
     "output_type": "display_data"
    },
    {
     "data": {
      "image/png": "[encoded data removed]",
      "text/plain": [
       "<Figure size 432x288 with 1 Axes>"
      ]
     },
     "metadata": {
      "needs_background": "light"
     },
     "output_type": "display_data"
    },
    {
     "data": {
      "image/png": "[encoded data removed]",
      "text/plain": [
       "<Figure size 432x288 with 1 Axes>"
      ]
     },
     "metadata": {
      "needs_background": "light"
     },
     "output_type": "display_data"
    },
    {
     "data": {
      "image/png": "[encoded data removed]",
      "text/plain": [
       "<Figure size 432x288 with 1 Axes>"
      ]
     },
     "metadata": {
      "needs_background": "light"
     },
     "output_type": "display_data"
    },
    {
     "data": {
      "image/png": "[encoded data removed]",
      "text/plain": [
       "<Figure size 432x288 with 1 Axes>"
      ]
     },
     "metadata": {
      "needs_background": "light"
     },
     "output_type": "display_data"
    },
    {
     "data": {
      "image/png": "[encoded data removed]",
      "text/plain": [
       "<Figure size 432x288 with 1 Axes>"
      ]
     },
     "metadata": {
      "needs_background": "light"
     },
     "output_type": "display_data"
    },
    {
     "data": {
      "image/png": "[encoded data removed]",
      "text/plain": [
       "<Figure size 432x288 with 1 Axes>"
      ]
     },
     "metadata": {
      "needs_background": "light"
     },
     "output_type": "display_data"
    },
    {
     "data": {
      "image/png": "[encoded data removed]",
      "text/plain": [
       "<Figure size 432x288 with 1 Axes>"
      ]
     },
     "metadata": {
      "needs_background": "light"
     },
     "output_type": "display_data"
    },
    {
     "data": {
      "image/png": "[encoded data removed]",
      "text/plain": [
       "<Figure size 432x288 with 1 Axes>"
      ]
     },
     "metadata": {
      "needs_background": "light"
     },
     "output_type": "display_data"
    },
    {
     "data": {
      "image/png": "[encoded data removed]",
      "text/plain": [
       "<Figure size 432x288 with 1 Axes>"
      ]
     },
     "metadata": {
      "needs_background": "light"
     },
     "output_type": "display_data"
    },
    {
     "data": {
      "image/png": "[encoded data removed]",
      "text/plain": [
       "<Figure size 432x288 with 1 Axes>"
      ]
     },
     "metadata": {
      "needs_background": "light"
     },
     "output_type": "display_data"
    },
    {
     "data": {
      "image/png": "[encoded data removed]",
      "text/plain": [
       "<Figure size 432x288 with 1 Axes>"
      ]
     },
     "metadata": {
      "needs_background": "light"
     },
     "output_type": "display_data"
    },
    {
     "data": {
      "image/png": "[encoded data removed]",
      "text/plain": [
       "<Figure size 432x288 with 1 Axes>"
      ]
     },
     "metadata": {
      "needs_background": "light"
     },
     "output_type": "display_data"
    },
    {
     "data": {
      "image/png": "[encoded data removed]",
      "text/plain": [
       "<Figure size 432x288 with 1 Axes>"
      ]
     },
     "metadata": {
      "needs_background": "light"
     },
     "output_type": "display_data"
    },
    {
     "data": {
      "image/png": "[encoded data removed]",
      "text/plain": [
       "<Figure size 432x288 with 1 Axes>"
      ]
     },
     "metadata": {
      "needs_background": "light"
     },
     "output_type": "display_data"
    }
   ],
   "source": [
    "for pid in [30, 80, 275, 262, 110, 245, 62, 272, 35, 144, 277, 359, 413, 337, 189]:\n",
    "    plot_predicted_points(df, pid)"
   ]
  },
  {
   "cell_type": "code",
   "execution_count": null,
   "metadata": {},
   "outputs": [],
   "source": []
  },
  {
   "cell_type": "code",
   "execution_count": null,
   "metadata": {},
   "outputs": [],
   "source": []
  }
 ],
 "metadata": {
  "kernelspec": {
   "display_name": "Python (fpl21)",
   "language": "python",
   "name": "fpl21"
  },
  "language_info": {
   "codemirror_mode": {
    "name": "ipython",
    "version": 3
   },
   "file_extension": ".py",
   "mimetype": "text/x-python",
   "name": "python",
   "nbconvert_exporter": "python",
   "pygments_lexer": "ipython3",
   "version": "3.8.11"
  }
 },
 "nbformat": 4,
 "nbformat_minor": 2
}
